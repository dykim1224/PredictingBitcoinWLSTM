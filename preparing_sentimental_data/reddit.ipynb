{
 "cells": [
  {
   "cell_type": "code",
   "execution_count": 23,
   "id": "e33b563f",
   "metadata": {},
   "outputs": [],
   "source": [
    "from selenium import webdriver\n",
    "from bs4 import BeautifulSoup\n",
    "import time\n",
    "import pandas as pd"
   ]
  },
  {
   "cell_type": "code",
   "execution_count": 24,
   "id": "5797eec6",
   "metadata": {},
   "outputs": [],
   "source": [
    "# Selenium WebDriver 설정\n",
    "url = \"https://www.reddit.com/r/btc/\"\n",
    "driver = webdriver.Chrome()  # ChromeDriver 설치 필요\n",
    "driver.get(url)"
   ]
  },
  {
   "cell_type": "code",
   "execution_count": 25,
   "id": "3922be30",
   "metadata": {},
   "outputs": [],
   "source": [
    "SCROLL_PAUSE_TIME = 10\n",
    "MAX_SCROLLS = 100\n",
    "scroll_count = 0\n",
    "new_height = 0\n",
    "last_height = 150\n",
    "\n",
    "data = []\n",
    "\n",
    "while scroll_count < MAX_SCROLLS:\n",
    "    driver.execute_script(\"window.scrollTo(0, document.body.scrollHeight);\")\n",
    "    time.sleep(SCROLL_PAUSE_TIME)\n",
    "    new_height = driver.execute_script(\"return document.body.scrollHeight\")\n",
    "    \n",
    "    if new_height == last_height:\n",
    "        break\n",
    "    \n",
    "    last_height = new_height\n",
    "    scroll_count += 1\n",
    "\n",
    "    soup = BeautifulSoup(driver.page_source, 'html.parser')\n",
    "    posts = soup.find_all('article', class_='w-full m-0')\n",
    "    \n",
    "    for post in posts:\n",
    "        shreddit_post = post.find('shreddit-post')\n",
    "        \n",
    "        author = shreddit_post.get('author') if shreddit_post else ''\n",
    "        url = shreddit_post.get('content-href') if shreddit_post else ''\n",
    "        title = shreddit_post.get('post-title') if shreddit_post else ''\n",
    "        date = post.find('time')\n",
    "\n",
    "        # 데이터 추가 (조건적으로 데이터가 None인지 확인)\n",
    "        data.append({\n",
    "            'author': author,\n",
    "            'source': 'Reddit',\n",
    "            'title': title,\n",
    "            'url': url,\n",
    "            'date': date.text if date else ''\n",
    "        })"
   ]
  },
  {
   "cell_type": "code",
   "execution_count": 27,
   "id": "5eb5fcaf",
   "metadata": {},
   "outputs": [],
   "source": [
    "driver.quit()"
   ]
  },
  {
   "cell_type": "code",
   "execution_count": 26,
   "id": "62e226ed",
   "metadata": {},
   "outputs": [
    {
     "name": "stdout",
     "output_type": "stream",
     "text": [
      "CSV 파일로 저장 완료\n"
     ]
    }
   ],
   "source": [
    "# CSV 저장\n",
    "df = pd.DataFrame(data)\n",
    "file_path = r\"C:\\Users\\jhkju\\Documents\\reddit_bitcoin3.csv\"\n",
    "\n",
    "df.to_csv(file_path, index=False)\n",
    "print(\"CSV 파일로 저장 완료\")"
   ]
  },
  {
   "cell_type": "code",
   "execution_count": null,
   "id": "14b4fe3e",
   "metadata": {},
   "outputs": [],
   "source": []
  },
  {
   "cell_type": "code",
   "execution_count": null,
   "id": "fca7b9c2",
   "metadata": {},
   "outputs": [],
   "source": []
  },
  {
   "cell_type": "code",
   "execution_count": null,
   "id": "c61d288a",
   "metadata": {},
   "outputs": [],
   "source": []
  }
 ],
 "metadata": {
  "kernelspec": {
   "display_name": "Python 3 (ipykernel)",
   "language": "python",
   "name": "python3"
  },
  "language_info": {
   "codemirror_mode": {
    "name": "ipython",
    "version": 3
   },
   "file_extension": ".py",
   "mimetype": "text/x-python",
   "name": "python",
   "nbconvert_exporter": "python",
   "pygments_lexer": "ipython3",
   "version": "3.10.9"
  }
 },
 "nbformat": 4,
 "nbformat_minor": 5
}
